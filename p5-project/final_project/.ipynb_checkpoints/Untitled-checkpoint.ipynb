{
 "cells": [
  {
   "cell_type": "markdown",
   "metadata": {},
   "source": [
    "# 机器学习项目作业\n",
    "本文尝试对数据集进行研究，并使用机器学习的方法，挖掘可能存在的嫌疑犯。\n",
    "\n",
    "## 数据清洗\n",
    "首先，我引入本次研究所使用的数据集。"
   ]
  },
  {
   "cell_type": "code",
   "execution_count": 13,
   "metadata": {
    "collapsed": false
   },
   "outputs": [],
   "source": [
    "import sys\n",
    "import pickle\n",
    "import pandas as pd\n",
    "sys.path.append(\"../tools/\")\n",
    "from feature_format import featureFormat, targetFeatureSplit\n",
    "from tester import dump_classifier_and_data\n",
    "### Load the dictionary containing the dataset\n",
    "with open(\"final_project_dataset.pkl\", \"r\") as data_file:\n",
    "    data_dict = pickle.load(data_file)\n",
    "    my_dataset = data_dict\n",
    "    features_list = ['poi',\n",
    "                 'salary',\n",
    "                 'bonus',\n",
    "                 'to_messages',\n",
    "                 'deferral_payments',\n",
    "                 'total_payments',\n",
    "                 'exercised_stock_options',\n",
    "                 'restricted_stock',\n",
    "                 'shared_receipt_with_poi',\n",
    "                 'restricted_stock_deferred',\n",
    "                 'total_stock_value',\n",
    "                 'expenses',\n",
    "                 'loan_advances',\n",
    "                 'director_fees',\n",
    "                 'deferred_income',\n",
    "                 'long_term_incentive',\n",
    "                 'from_poi_to_this_person',\n",
    "                 'from_this_person_to_poi']\n",
    "    data = featureFormat(my_dataset, features_list, sort_keys = True)\n",
    "    labels, features = targetFeatureSplit(data)"
   ]
  },
  {
   "cell_type": "markdown",
   "metadata": {},
   "source": [
    "### 去除Total数据点\n",
    "首先，根据之前的课程内容，我知道这个数据集中有一个内容为Total的数据点是明显的异常数据点，需要去除。"
   ]
  },
  {
   "cell_type": "code",
   "execution_count": 14,
   "metadata": {
    "collapsed": false
   },
   "outputs": [
    {
     "data": {
      "image/png": "[encoded data removed]",
      "text/plain": [
       "<matplotlib.figure.Figure at 0x11377f950>"
      ]
     },
     "metadata": {},
     "output_type": "display_data"
    }
   ],
   "source": [
    "## show data plot with Total\n",
    "import numpy as np\n",
    "import matplotlib.pyplot as plt\n",
    "\n",
    "x = data[:,1]\n",
    "y = data[:,2]\n",
    "\n",
    "plt.scatter(x,y)\n",
    "plt.show()"
   ]
  },
  {
   "cell_type": "code",
   "execution_count": 15,
   "metadata": {
    "collapsed": false
   },
   "outputs": [
    {
     "data": {
      "image/png": "[encoded data removed]",
      "text/plain": [
       "<matplotlib.figure.Figure at 0x113659490>"
      ]
     },
     "metadata": {},
     "output_type": "display_data"
    }
   ],
   "source": [
    "del my_dataset['TOTAL']\n",
    "features_list = ['poi',\n",
    "                 'salary',\n",
    "                 'bonus',\n",
    "                 'to_messages',\n",
    "                 'deferral_payments',\n",
    "                 'total_payments',\n",
    "                 'exercised_stock_options',\n",
    "                 'restricted_stock',\n",
    "                 'shared_receipt_with_poi',\n",
    "                 'restricted_stock_deferred',\n",
    "                 'total_stock_value',\n",
    "                 'expenses',\n",
    "                 'loan_advances',\n",
    "                 'director_fees',\n",
    "                 'deferred_income',\n",
    "                 'long_term_incentive',\n",
    "                 'from_poi_to_this_person',\n",
    "                 'from_this_person_to_poi']\n",
    "data = featureFormat(my_dataset, features_list, sort_keys = True)\n",
    "labels, features = targetFeatureSplit(data)\n",
    "    \n",
    "x = data[:,1]\n",
    "y = data[:,2]\n",
    "\n",
    "plt.scatter(x,y)\n",
    "plt.show()"
   ]
  },
  {
   "cell_type": "markdown",
   "metadata": {},
   "source": [
    "从图中可见数据点分布清晰了很多。"
   ]
  },
  {
   "cell_type": "markdown",
   "metadata": {},
   "source": [
    "### 数据初步探查\n",
    "接下来我尝试使用pandas对数据集进行初步的研究。"
   ]
  },
  {
   "cell_type": "code",
   "execution_count": 16,
   "metadata": {
    "collapsed": false
   },
   "outputs": [
    {
     "data": {
      "text/plain": [
       "144"
      ]
     },
     "execution_count": 16,
     "metadata": {},
     "output_type": "execute_result"
    }
   ],
   "source": [
    "## 引入pandas模块，并创建DataFrame开始分析数据\n",
    "import pandas as pd\n",
    "df = pd.DataFrame(data)\n",
    "len(df) # 数据集长度"
   ]
  },
  {
   "cell_type": "code",
   "execution_count": 17,
   "metadata": {
    "collapsed": false
   },
   "outputs": [
    {
     "data": {
      "text/plain": [
       "0     0\n",
       "1     0\n",
       "2     0\n",
       "3     0\n",
       "4     0\n",
       "5     0\n",
       "6     0\n",
       "7     0\n",
       "8     0\n",
       "9     0\n",
       "10    0\n",
       "11    0\n",
       "12    0\n",
       "13    0\n",
       "14    0\n",
       "15    0\n",
       "16    0\n",
       "17    0\n",
       "dtype: int64"
      ]
     },
     "execution_count": 17,
     "metadata": {},
     "output_type": "execute_result"
    }
   ],
   "source": [
    "pd.isnull(df).sum() # 值为空的数据点"
   ]
  },
  {
   "cell_type": "markdown",
   "metadata": {},
   "source": [
    "由于使用的featureFormat函数，所以值为NaN的数据点全部转化为0。所以不存在空值。"
   ]
  },
  {
   "cell_type": "code",
   "execution_count": 18,
   "metadata": {
    "collapsed": false
   },
   "outputs": [
    {
     "data": {
      "text/plain": [
       "0     126\n",
       "1      50\n",
       "2      63\n",
       "3      58\n",
       "4     106\n",
       "5      20\n",
       "6      43\n",
       "7      35\n",
       "8      58\n",
       "9     127\n",
       "10     19\n",
       "11     50\n",
       "12    141\n",
       "13    128\n",
       "14     96\n",
       "15     79\n",
       "16     70\n",
       "17     78\n",
       "dtype: int64"
      ]
     },
     "execution_count": 18,
     "metadata": {},
     "output_type": "execute_result"
    }
   ],
   "source": [
    "(df == 0 ).sum()"
   ]
  },
  {
   "cell_type": "markdown",
   "metadata": {},
   "source": [
    "可以发现144条记录，其中有近5个字段有超过三分之二的数据是零。在选择特征数据的时候应该加以考量。"
   ]
  },
  {
   "cell_type": "code",
   "execution_count": 19,
   "metadata": {
    "collapsed": false
   },
   "outputs": [
    {
     "data": {
      "text/html": [
       "<div>\n",
       "<table border=\"1\" class=\"dataframe\">\n",
       "  <thead>\n",
       "    <tr style=\"text-align: right;\">\n",
       "      <th></th>\n",
       "      <th>0</th>\n",
       "      <th>1</th>\n",
       "      <th>2</th>\n",
       "      <th>3</th>\n",
       "      <th>4</th>\n",
       "      <th>5</th>\n",
       "      <th>6</th>\n",
       "      <th>7</th>\n",
       "      <th>8</th>\n",
       "      <th>9</th>\n",
       "      <th>10</th>\n",
       "      <th>11</th>\n",
       "      <th>12</th>\n",
       "      <th>13</th>\n",
       "      <th>14</th>\n",
       "      <th>15</th>\n",
       "      <th>16</th>\n",
       "      <th>17</th>\n",
       "    </tr>\n",
       "  </thead>\n",
       "  <tbody>\n",
       "    <tr>\n",
       "      <th>count</th>\n",
       "      <td>144.000000</td>\n",
       "      <td>1.440000e+02</td>\n",
       "      <td>1.440000e+02</td>\n",
       "      <td>144.000000</td>\n",
       "      <td>1.440000e+02</td>\n",
       "      <td>1.440000e+02</td>\n",
       "      <td>1.440000e+02</td>\n",
       "      <td>1.440000e+02</td>\n",
       "      <td>144.000000</td>\n",
       "      <td>1.440000e+02</td>\n",
       "      <td>1.440000e+02</td>\n",
       "      <td>144.000000</td>\n",
       "      <td>1.440000e+02</td>\n",
       "      <td>144.000000</td>\n",
       "      <td>1.440000e+02</td>\n",
       "      <td>1.440000e+02</td>\n",
       "      <td>144.000000</td>\n",
       "      <td>144.000000</td>\n",
       "    </tr>\n",
       "    <tr>\n",
       "      <th>mean</th>\n",
       "      <td>0.125000</td>\n",
       "      <td>1.854460e+05</td>\n",
       "      <td>6.759974e+05</td>\n",
       "      <td>1238.555556</td>\n",
       "      <td>2.220896e+05</td>\n",
       "      <td>2.259057e+06</td>\n",
       "      <td>2.075802e+06</td>\n",
       "      <td>8.685363e+05</td>\n",
       "      <td>702.611111</td>\n",
       "      <td>7.341790e+04</td>\n",
       "      <td>2.909786e+06</td>\n",
       "      <td>35375.340278</td>\n",
       "      <td>5.828125e+05</td>\n",
       "      <td>9980.319444</td>\n",
       "      <td>-1.936833e+05</td>\n",
       "      <td>3.369578e+05</td>\n",
       "      <td>38.756944</td>\n",
       "      <td>24.625000</td>\n",
       "    </tr>\n",
       "    <tr>\n",
       "      <th>std</th>\n",
       "      <td>0.331873</td>\n",
       "      <td>1.970421e+05</td>\n",
       "      <td>1.233155e+06</td>\n",
       "      <td>2237.564816</td>\n",
       "      <td>7.541013e+05</td>\n",
       "      <td>8.846594e+06</td>\n",
       "      <td>4.795513e+06</td>\n",
       "      <td>2.016572e+06</td>\n",
       "      <td>1077.290736</td>\n",
       "      <td>1.301983e+06</td>\n",
       "      <td>6.189018e+06</td>\n",
       "      <td>45309.303038</td>\n",
       "      <td>6.794472e+06</td>\n",
       "      <td>31300.575144</td>\n",
       "      <td>6.060111e+05</td>\n",
       "      <td>6.871826e+05</td>\n",
       "      <td>74.276769</td>\n",
       "      <td>79.778266</td>\n",
       "    </tr>\n",
       "    <tr>\n",
       "      <th>min</th>\n",
       "      <td>0.000000</td>\n",
       "      <td>0.000000e+00</td>\n",
       "      <td>0.000000e+00</td>\n",
       "      <td>0.000000</td>\n",
       "      <td>-1.025000e+05</td>\n",
       "      <td>0.000000e+00</td>\n",
       "      <td>0.000000e+00</td>\n",
       "      <td>-2.604490e+06</td>\n",
       "      <td>0.000000</td>\n",
       "      <td>-1.787380e+06</td>\n",
       "      <td>-4.409300e+04</td>\n",
       "      <td>0.000000</td>\n",
       "      <td>0.000000e+00</td>\n",
       "      <td>0.000000</td>\n",
       "      <td>-3.504386e+06</td>\n",
       "      <td>0.000000e+00</td>\n",
       "      <td>0.000000</td>\n",
       "      <td>0.000000</td>\n",
       "    </tr>\n",
       "    <tr>\n",
       "      <th>25%</th>\n",
       "      <td>0.000000</td>\n",
       "      <td>0.000000e+00</td>\n",
       "      <td>0.000000e+00</td>\n",
       "      <td>0.000000</td>\n",
       "      <td>0.000000e+00</td>\n",
       "      <td>9.964825e+04</td>\n",
       "      <td>0.000000e+00</td>\n",
       "      <td>2.434500e+04</td>\n",
       "      <td>0.000000</td>\n",
       "      <td>0.000000e+00</td>\n",
       "      <td>2.443265e+05</td>\n",
       "      <td>0.000000</td>\n",
       "      <td>0.000000e+00</td>\n",
       "      <td>0.000000</td>\n",
       "      <td>-3.708600e+04</td>\n",
       "      <td>0.000000e+00</td>\n",
       "      <td>0.000000</td>\n",
       "      <td>0.000000</td>\n",
       "    </tr>\n",
       "    <tr>\n",
       "      <th>50%</th>\n",
       "      <td>0.000000</td>\n",
       "      <td>2.105960e+05</td>\n",
       "      <td>3.000000e+05</td>\n",
       "      <td>347.500000</td>\n",
       "      <td>0.000000e+00</td>\n",
       "      <td>9.413595e+05</td>\n",
       "      <td>6.082935e+05</td>\n",
       "      <td>3.605280e+05</td>\n",
       "      <td>114.000000</td>\n",
       "      <td>0.000000e+00</td>\n",
       "      <td>9.659550e+05</td>\n",
       "      <td>20182.000000</td>\n",
       "      <td>0.000000e+00</td>\n",
       "      <td>0.000000</td>\n",
       "      <td>0.000000e+00</td>\n",
       "      <td>0.000000e+00</td>\n",
       "      <td>4.000000</td>\n",
       "      <td>0.000000</td>\n",
       "    </tr>\n",
       "    <tr>\n",
       "      <th>75%</th>\n",
       "      <td>0.000000</td>\n",
       "      <td>2.696675e+05</td>\n",
       "      <td>8.000000e+05</td>\n",
       "      <td>1623.000000</td>\n",
       "      <td>8.535500e+03</td>\n",
       "      <td>1.945668e+06</td>\n",
       "      <td>1.683580e+06</td>\n",
       "      <td>7.374560e+05</td>\n",
       "      <td>933.750000</td>\n",
       "      <td>0.000000e+00</td>\n",
       "      <td>2.295176e+06</td>\n",
       "      <td>53328.250000</td>\n",
       "      <td>0.000000e+00</td>\n",
       "      <td>0.000000</td>\n",
       "      <td>0.000000e+00</td>\n",
       "      <td>3.745862e+05</td>\n",
       "      <td>41.250000</td>\n",
       "      <td>14.000000</td>\n",
       "    </tr>\n",
       "    <tr>\n",
       "      <th>max</th>\n",
       "      <td>1.000000</td>\n",
       "      <td>1.111258e+06</td>\n",
       "      <td>8.000000e+06</td>\n",
       "      <td>15149.000000</td>\n",
       "      <td>6.426990e+06</td>\n",
       "      <td>1.035598e+08</td>\n",
       "      <td>3.434838e+07</td>\n",
       "      <td>1.476169e+07</td>\n",
       "      <td>5521.000000</td>\n",
       "      <td>1.545629e+07</td>\n",
       "      <td>4.911008e+07</td>\n",
       "      <td>228763.000000</td>\n",
       "      <td>8.152500e+07</td>\n",
       "      <td>137864.000000</td>\n",
       "      <td>0.000000e+00</td>\n",
       "      <td>5.145434e+06</td>\n",
       "      <td>528.000000</td>\n",
       "      <td>609.000000</td>\n",
       "    </tr>\n",
       "  </tbody>\n",
       "</table>\n",
       "</div>"
      ],
      "text/plain": [
       "               0             1             2             3             4   \\\n",
       "count  144.000000  1.440000e+02  1.440000e+02    144.000000  1.440000e+02   \n",
       "mean     0.125000  1.854460e+05  6.759974e+05   1238.555556  2.220896e+05   \n",
       "std      0.331873  1.970421e+05  1.233155e+06   2237.564816  7.541013e+05   \n",
       "min      0.000000  0.000000e+00  0.000000e+00      0.000000 -1.025000e+05   \n",
       "25%      0.000000  0.000000e+00  0.000000e+00      0.000000  0.000000e+00   \n",
       "50%      0.000000  2.105960e+05  3.000000e+05    347.500000  0.000000e+00   \n",
       "75%      0.000000  2.696675e+05  8.000000e+05   1623.000000  8.535500e+03   \n",
       "max      1.000000  1.111258e+06  8.000000e+06  15149.000000  6.426990e+06   \n",
       "\n",
       "                 5             6             7            8             9   \\\n",
       "count  1.440000e+02  1.440000e+02  1.440000e+02   144.000000  1.440000e+02   \n",
       "mean   2.259057e+06  2.075802e+06  8.685363e+05   702.611111  7.341790e+04   \n",
       "std    8.846594e+06  4.795513e+06  2.016572e+06  1077.290736  1.301983e+06   \n",
       "min    0.000000e+00  0.000000e+00 -2.604490e+06     0.000000 -1.787380e+06   \n",
       "25%    9.964825e+04  0.000000e+00  2.434500e+04     0.000000  0.000000e+00   \n",
       "50%    9.413595e+05  6.082935e+05  3.605280e+05   114.000000  0.000000e+00   \n",
       "75%    1.945668e+06  1.683580e+06  7.374560e+05   933.750000  0.000000e+00   \n",
       "max    1.035598e+08  3.434838e+07  1.476169e+07  5521.000000  1.545629e+07   \n",
       "\n",
       "                 10             11            12             13            14  \\\n",
       "count  1.440000e+02     144.000000  1.440000e+02     144.000000  1.440000e+02   \n",
       "mean   2.909786e+06   35375.340278  5.828125e+05    9980.319444 -1.936833e+05   \n",
       "std    6.189018e+06   45309.303038  6.794472e+06   31300.575144  6.060111e+05   \n",
       "min   -4.409300e+04       0.000000  0.000000e+00       0.000000 -3.504386e+06   \n",
       "25%    2.443265e+05       0.000000  0.000000e+00       0.000000 -3.708600e+04   \n",
       "50%    9.659550e+05   20182.000000  0.000000e+00       0.000000  0.000000e+00   \n",
       "75%    2.295176e+06   53328.250000  0.000000e+00       0.000000  0.000000e+00   \n",
       "max    4.911008e+07  228763.000000  8.152500e+07  137864.000000  0.000000e+00   \n",
       "\n",
       "                 15          16          17  \n",
       "count  1.440000e+02  144.000000  144.000000  \n",
       "mean   3.369578e+05   38.756944   24.625000  \n",
       "std    6.871826e+05   74.276769   79.778266  \n",
       "min    0.000000e+00    0.000000    0.000000  \n",
       "25%    0.000000e+00    0.000000    0.000000  \n",
       "50%    0.000000e+00    4.000000    0.000000  \n",
       "75%    3.745862e+05   41.250000   14.000000  \n",
       "max    5.145434e+06  528.000000  609.000000  "
      ]
     },
     "execution_count": 19,
     "metadata": {},
     "output_type": "execute_result"
    }
   ],
   "source": [
    "df.describe()"
   ]
  },
  {
   "cell_type": "markdown",
   "metadata": {},
   "source": [
    "光从这些数据的分布，无法研究出数据与嫌疑人身份的关联性，所以我将开始使用机器学习的方法，来对这些数据进行分析。\n",
    "\n",
    "## 特征工程准备\n",
    "\n",
    "我计划在feature list中覆盖尽可能多的特征，然后使用selectPercentile来进行特征筛选。所以采用的feature list如下："
   ]
  },
  {
   "cell_type": "code",
   "execution_count": 20,
   "metadata": {
    "collapsed": true
   },
   "outputs": [],
   "source": [
    "features_list = ['poi',\n",
    "                 'salary',\n",
    "                 'bonus',\n",
    "                 'to_messages',\n",
    "                 'deferral_payments',\n",
    "                 'total_payments',\n",
    "                 'exercised_stock_options',\n",
    "                 'restricted_stock',\n",
    "                 'shared_receipt_with_poi',\n",
    "                 'restricted_stock_deferred',\n",
    "                 'total_stock_value',\n",
    "                 'expenses',\n",
    "                 'loan_advances',\n",
    "                 'director_fees',\n",
    "                 'deferred_income',\n",
    "                 'long_term_incentive',\n",
    "                 'from_poi_to_this_person',\n",
    "                 'from_this_person_to_poi']\n",
    "data = featureFormat(my_dataset, features_list, sort_keys = True)\n",
    "labels, features = targetFeatureSplit(data)"
   ]
  },
  {
   "cell_type": "markdown",
   "metadata": {},
   "source": [
    "### 特征缩放\n",
    "使用MinMaxScaler对特征进行缩放。"
   ]
  },
  {
   "cell_type": "code",
   "execution_count": 21,
   "metadata": {
    "collapsed": true
   },
   "outputs": [],
   "source": [
    "# 特征缩放函数\n",
    "def feature_scale(features):\n",
    "    from sklearn.preprocessing import MinMaxScaler\n",
    "    scaler = MinMaxScaler()\n",
    "    features = scaler.fit_transform(features)\n",
    "    return features"
   ]
  },
  {
   "cell_type": "markdown",
   "metadata": {},
   "source": [
    "### 特征选择\n",
    "我使用了selectPercentile，并且将函数中的percentile参数化，方便日后根据性能进行调整。"
   ]
  },
  {
   "cell_type": "code",
   "execution_count": 22,
   "metadata": {
    "collapsed": true
   },
   "outputs": [],
   "source": [
    "# 特征选择函数\n",
    "def feature_selection(features,labels,selector_percentile_parameter):\n",
    "    from sklearn.feature_selection import SelectPercentile, f_classif\n",
    "    selector = SelectPercentile(f_classif, percentile = selector_percentile_parameter)\n",
    "    features = selector.fit_transform(features,labels)\n",
    "    return features"
   ]
  },
  {
   "cell_type": "markdown",
   "metadata": {},
   "source": [
    "### 特征构造\n",
    "选用了PCA函数，进行新的特征构造"
   ]
  },
  {
   "cell_type": "code",
   "execution_count": 23,
   "metadata": {
    "collapsed": true
   },
   "outputs": [],
   "source": [
    "# 特征构造\n",
    "def feature_scale(features):\n",
    "    from sklearn.preprocessing import MinMaxScaler\n",
    "    scaler = MinMaxScaler()\n",
    "    features = scaler.fit_transform(features)\n",
    "    return features"
   ]
  },
  {
   "cell_type": "markdown",
   "metadata": {},
   "source": [
    "### 数据转化\n",
    "最后，我构造了一个统一的数据转化函数，可以根据参数对数据调用上述函数对数据特征进行转化："
   ]
  },
  {
   "cell_type": "code",
   "execution_count": 24,
   "metadata": {
    "collapsed": true
   },
   "outputs": [],
   "source": [
    "# 数据转化函数\n",
    "def features_transform(features,labels,selector_percentile_parameter = selector_percentile_parameter,components_parameter = components_parameter):\n",
    "    features = feature_scale(features)\n",
    "    features = feature_selection(features,labels,selector_percentile_parameter)\n",
    "    features = feature_PCA(features,labels,components_parameter)\n",
    "    return features"
   ]
  },
  {
   "cell_type": "markdown",
   "metadata": {},
   "source": [
    "上述是特征工程所需的功能。\n",
    "## 机器学习算法准备\n",
    "本文尝试使用Naive Bayes，Decision Tree，SVM以及Random Forest四种算法，对数据进行分析，首先，我搭建了一个统一的算法函数，可以通过设置参数选择对应的算法。"
   ]
  },
  {
   "cell_type": "code",
   "execution_count": 32,
   "metadata": {
    "collapsed": false
   },
   "outputs": [],
   "source": [
    "# GridSearch_test用以使用GridSearch寻找合适的参数，函数中的各个算法参数都是经过试验获得的，后文会详细展示试验过程。\n",
    "def classifier(algorithm = \"NB\", GridSearch_test = False):\n",
    "    if algorithm == 'NB':\n",
    "        ## GaussianNB\n",
    "        from sklearn.naive_bayes import GaussianNB\n",
    "        clf = GaussianNB()\n",
    "    elif algorithm == 'Decision Tree':\n",
    "        ## Decision Tree\n",
    "        from sklearn.tree import DecisionTreeClassifier\n",
    "        clf = DecisionTreeClassifier(criterion = \"entropy\",max_depth = 2,min_samples_leaf = 9)  \n",
    "        if GridSearch_test:\n",
    "            parameters = {'criterion':[\"entropy\",\"gini\"],'max_depth':(1,10,1),'min_samples_leaf':(1,200,10)}\n",
    "            clf = GridSearchCV(clf,parameters)\n",
    "    elif algorithm == 'Random Forest':\n",
    "        ## Random Forest\n",
    "        from  sklearn.ensemble import RandomForestClassifier\n",
    "        clf = RandomForestClassifier(n_estimators = 3)\n",
    "        if GridSearch_test:\n",
    "            parameters = {'n_estimators':[1,10]}\n",
    "            clf = GridSearchCV(clf,parameters)\n",
    "    elif algorithm == 'SVM':\n",
    "        from sklearn.svm import SVC\n",
    "        clf = SVC(C=1,gamma = 1)\n",
    "        if GridSearch_test:\n",
    "            parameters = {'C':[0.001, 0.01, 0.1, 1, 10],\n",
    "            \"gamma\":[0.001, 0.01, 0.1, 1]}\n",
    "            clf = GridSearchCV(clf, parameters)\n",
    "    return clf\n",
    "\n",
    "clf = classifier() # choose from \"NB\",\"Decision Tree\",\"Random Forest\",\"SVM\""
   ]
  },
  {
   "cell_type": "markdown",
   "metadata": {},
   "source": [
    "## 算法评估准备\n",
    "最初我选用了简单的train_test_split，进行算法性能评估。"
   ]
  },
  {
   "cell_type": "code",
   "execution_count": 35,
   "metadata": {
    "collapsed": false
   },
   "outputs": [
    {
     "name": "stdout",
     "output_type": "stream",
     "text": [
      "GaussianNB(priors=None)\n",
      "accuracy score: 0.879310344828\n",
      "precision score: 0.428571428571\n",
      "recall score: 0.5\n"
     ]
    }
   ],
   "source": [
    "from sklearn.cross_validation import train_test_split\n",
    "features_train, features_test, labels_train, labels_test = \\\n",
    "    train_test_split(features, labels, test_size=0.4, random_state=42)\n",
    "clf = classifier()\n",
    "clf = clf.fit(features_train,labels_train)\n",
    "\n",
    "from sklearn.metrics import accuracy_score\n",
    "from sklearn.metrics import precision_score\n",
    "from sklearn.metrics import recall_score\n",
    "\n",
    "print clf\n",
    "\n",
    "accuracy = accuracy_score(clf.predict(features_test),labels_test)\n",
    "precision = precision_score(clf.predict(features_test),labels_test)\n",
    "recall = recall_score(clf.predict(features_test),labels_test)\n",
    "\n",
    "print \"accuracy score: {}\".format(accuracy)\n",
    "print \"precision score: {}\".format(precision)\n",
    "print \"recall score: {}\".format(recall)"
   ]
  },
  {
   "cell_type": "markdown",
   "metadata": {},
   "source": [
    "## 参数调整\n",
    "首先，我使用GridSearchCV，对各种算法的参数进行了调整：\n",
    "cl"
   ]
  },
  {
   "cell_type": "code",
   "execution_count": null,
   "metadata": {
    "collapsed": true
   },
   "outputs": [],
   "source": []
  }
 ],
 "metadata": {
  "kernelspec": {
   "display_name": "Python [conda env:ana41py27]",
   "language": "python",
   "name": "conda-env-ana41py27-py"
  },
  "language_info": {
   "codemirror_mode": {
    "name": "ipython",
    "version": 2
   },
   "file_extension": ".py",
   "mimetype": "text/x-python",
   "name": "python",
   "nbconvert_exporter": "python",
   "pygments_lexer": "ipython2",
   "version": "2.7.13"
  }
 },
 "nbformat": 4,
 "nbformat_minor": 2
}
